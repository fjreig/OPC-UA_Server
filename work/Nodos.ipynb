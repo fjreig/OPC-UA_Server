{
 "cells": [
  {
   "cell_type": "code",
   "execution_count": 2,
   "id": "8ab6cd34-7688-42c7-921e-6ed28f5fd1c0",
   "metadata": {},
   "outputs": [],
   "source": [
    "#!pip install opcua\n",
    "#!pip install cryptography"
   ]
  },
  {
   "cell_type": "code",
   "execution_count": 3,
   "id": "928cc56f-e9a4-4d45-820d-6b7f35c6ca34",
   "metadata": {},
   "outputs": [],
   "source": [
    "from opcua import Client\n",
    "import time"
   ]
  },
  {
   "cell_type": "code",
   "execution_count": 4,
   "id": "bf69aa4e-11f8-4740-8aa7-6efef5ed7852",
   "metadata": {},
   "outputs": [],
   "source": [
    "url = \"opc.tcp://10.116.0.2:4840\""
   ]
  },
  {
   "cell_type": "code",
   "execution_count": 5,
   "id": "ec775170-08eb-4d52-aae2-00f4476b4341",
   "metadata": {},
   "outputs": [],
   "source": [
    "client = Client(url)"
   ]
  },
  {
   "cell_type": "code",
   "execution_count": 6,
   "id": "bc2ddf8b-6397-4073-a743-061e4aaef3e0",
   "metadata": {},
   "outputs": [],
   "source": [
    "client.session_timeout = 30000 "
   ]
  },
  {
   "cell_type": "code",
   "execution_count": 7,
   "id": "a7c8ad35-9d6c-4c11-86c0-206f35350983",
   "metadata": {},
   "outputs": [],
   "source": [
    "client.connect()"
   ]
  },
  {
   "cell_type": "code",
   "execution_count": 8,
   "id": "f6523179-7fac-406d-b4ec-768dac308d5b",
   "metadata": {},
   "outputs": [
    {
     "name": "stdout",
     "output_type": "stream",
     "text": [
      "Client Connect\n"
     ]
    }
   ],
   "source": [
    "print(\"Client Connect\")"
   ]
  },
  {
   "cell_type": "code",
   "execution_count": 9,
   "id": "4addf918-4f86-41cf-9581-846bd888a33d",
   "metadata": {},
   "outputs": [],
   "source": [
    "struct=client.get_node(\"ns=2;i=23\")"
   ]
  },
  {
   "cell_type": "code",
   "execution_count": 10,
   "id": "9eea6ae7-f221-443f-ad99-a82ee424b3bf",
   "metadata": {},
   "outputs": [],
   "source": [
    "root = client.get_root_node()"
   ]
  },
  {
   "cell_type": "code",
   "execution_count": 11,
   "id": "44e07888-605f-416e-accc-d77a1bd45df0",
   "metadata": {},
   "outputs": [],
   "source": [
    "children = root.get_children()\n",
    "child_of_children=children[0].get_children()"
   ]
  },
  {
   "cell_type": "code",
   "execution_count": 12,
   "id": "977d24d5-e880-432a-bf12-9861e184d5cd",
   "metadata": {},
   "outputs": [
    {
     "name": "stdout",
     "output_type": "stream",
     "text": [
      "child_of_children  : [Node(NumericNodeId(i=2253)), Node(NumericNodeId(i=23470)), Node(FourByteNodeId(ns=2;i=1)), Node(FourByteNodeId(ns=2;i=2)), Node(FourByteNodeId(ns=2;i=3))]\n"
     ]
    }
   ],
   "source": [
    "child_of_children\n",
    "print(\"child_of_children  :\",child_of_children)"
   ]
  },
  {
   "cell_type": "code",
   "execution_count": 13,
   "id": "d8fc51d8-d921-4b3a-8f58-c54f4b1f84ea",
   "metadata": {},
   "outputs": [
    {
     "name": "stdout",
     "output_type": "stream",
     "text": [
      "c_child_of_children  : [Node(NumericNodeId(i=23476)), Node(NumericNodeId(i=23479)), Node(NumericNodeId(i=23488))]\n"
     ]
    }
   ],
   "source": [
    "c_child_of_children=child_of_children[1].get_children()\n",
    "print(\"c_child_of_children  :\", c_child_of_children)"
   ]
  },
  {
   "cell_type": "code",
   "execution_count": 16,
   "id": "21aa310d-5f2c-41e0-ab20-01f603523dab",
   "metadata": {},
   "outputs": [
    {
     "name": "stdout",
     "output_type": "stream",
     "text": [
      "5\n"
     ]
    }
   ],
   "source": [
    "print(len(child_of_children))"
   ]
  },
  {
   "cell_type": "code",
   "execution_count": 18,
   "id": "317f650a-3fcc-40c2-8ea0-ba020bf6f73c",
   "metadata": {},
   "outputs": [
    {
     "name": "stdout",
     "output_type": "stream",
     "text": [
      "2\n",
      "3\n",
      "4\n"
     ]
    }
   ],
   "source": [
    "for x in range(2, len(child_of_children)):\n",
    "  print(x)"
   ]
  },
  {
   "cell_type": "code",
   "execution_count": 15,
   "id": "5c76e608-06fc-452c-9419-96b2f2a32544",
   "metadata": {},
   "outputs": [
    {
     "name": "stdout",
     "output_type": "stream",
     "text": [
      "c_child_of_children  : [Node(StringNodeId(ns=2;s=AARR1.V1)), Node(StringNodeId(ns=2;s=AARR1.V2)), Node(StringNodeId(ns=2;s=AARR1.V3)), Node(StringNodeId(ns=2;s=AARR1.I1)), Node(StringNodeId(ns=2;s=AARR1.I2)), Node(StringNodeId(ns=2;s=AARR1.I3)), Node(StringNodeId(ns=2;s=AARR1.PA1)), Node(StringNodeId(ns=2;s=AARR1.PA2)), Node(StringNodeId(ns=2;s=AARR1.PA3)), Node(StringNodeId(ns=2;s=AARR1.PA)), Node(StringNodeId(ns=2;s=AARR1.EA))]\n"
     ]
    }
   ],
   "source": [
    "c_child_of_children=child_of_children[3].get_children()\n",
    "print(\"c_child_of_children  :\", c_child_of_children)"
   ]
  },
  {
   "cell_type": "code",
   "execution_count": 39,
   "id": "cc3d7f92-ce35-43de-93c8-41bea44a8ac8",
   "metadata": {},
   "outputs": [
    {
     "name": "stdout",
     "output_type": "stream",
     "text": [
      "Children: ns=2;s=freeopcua.Tags.temperature \n"
     ]
    }
   ],
   "source": [
    "structs = client.get_node(c_child_of_children[1])\n",
    "print(\"Children: {:s} \".format(str(structs)))"
   ]
  },
  {
   "cell_type": "code",
   "execution_count": 22,
   "id": "a19410c4-4160-44f3-a1aa-2483b9cb77df",
   "metadata": {},
   "outputs": [
    {
     "data": {
      "text/plain": [
       "85.41799889082642"
      ]
     },
     "execution_count": 22,
     "metadata": {},
     "output_type": "execute_result"
    }
   ],
   "source": [
    "structs.get_value()"
   ]
  },
  {
   "cell_type": "code",
   "execution_count": 31,
   "id": "97825c89-24cd-4602-8811-c4838028e1fb",
   "metadata": {},
   "outputs": [
    {
     "data": {
      "text/plain": [
       "opcua.common.node.Node"
      ]
     },
     "execution_count": 31,
     "metadata": {},
     "output_type": "execute_result"
    }
   ],
   "source": [
    "type(structs)"
   ]
  },
  {
   "cell_type": "code",
   "execution_count": 34,
   "id": "fa230141-9003-442f-ba81-c835ff03aeeb",
   "metadata": {},
   "outputs": [
    {
     "data": {
      "text/plain": [
       "'ns=2;s=freeopcua.Tags.temperature'"
      ]
     },
     "execution_count": 34,
     "metadata": {},
     "output_type": "execute_result"
    }
   ],
   "source": [
    "str(structs)"
   ]
  },
  {
   "cell_type": "code",
   "execution_count": null,
   "id": "dfdd523d-e494-4565-b47e-e9979926fdd6",
   "metadata": {},
   "outputs": [],
   "source": []
  }
 ],
 "metadata": {
  "kernelspec": {
   "display_name": "Python 3 (ipykernel)",
   "language": "python",
   "name": "python3"
  },
  "language_info": {
   "codemirror_mode": {
    "name": "ipython",
    "version": 3
   },
   "file_extension": ".py",
   "mimetype": "text/x-python",
   "name": "python",
   "nbconvert_exporter": "python",
   "pygments_lexer": "ipython3",
   "version": "3.11.6"
  }
 },
 "nbformat": 4,
 "nbformat_minor": 5
}
