{
 "cells": [
  {
   "cell_type": "code",
   "execution_count": 2,
   "id": "1c8bb52e-6db5-4fb5-83b1-3316b8cd46bb",
   "metadata": {},
   "outputs": [],
   "source": [
    "from opcua import Client, ua"
   ]
  },
  {
   "cell_type": "code",
   "execution_count": 3,
   "id": "c0de9971-27db-4982-a582-b95bd211cee1",
   "metadata": {},
   "outputs": [
    {
     "name": "stdout",
     "output_type": "stream",
     "text": [
      "Connected: opc.tcp://10.116.0.2:4840\n"
     ]
    }
   ],
   "source": [
    "url = \"opc.tcp://10.116.0.2:4840\"\n",
    "client = Client(url)\n",
    "client.session_timeout = 30000\n",
    "client.connect()\n",
    "print(f\"Connected: {url}\")"
   ]
  },
  {
   "cell_type": "markdown",
   "id": "84a02785-8aaf-4364-9f3c-9487ab58e894",
   "metadata": {},
   "source": [
    "### Variables Reales"
   ]
  },
  {
   "cell_type": "code",
   "execution_count": 4,
   "id": "dbc81780-e751-4fd2-ae0e-167e2e9b9f78",
   "metadata": {},
   "outputs": [],
   "source": [
    "node = client.get_node('ns=2;s=freeopcua.Tags.voltage')"
   ]
  },
  {
   "cell_type": "code",
   "execution_count": 6,
   "id": "d85ff03e-4540-470b-bd28-30faa4c23c90",
   "metadata": {},
   "outputs": [
    {
     "name": "stdout",
     "output_type": "stream",
     "text": [
      "before:  50\n",
      "after:  40\n"
     ]
    }
   ],
   "source": [
    "print(\"before: \", node.get_value())\n",
    "node.set_value(ua.DataValue(ua.Variant(40, ua.VariantType.Int64)))\n",
    "print(\"after: \", node.get_value())"
   ]
  },
  {
   "cell_type": "markdown",
   "id": "48e27e94-4dc2-46a9-b75e-8ea24101c603",
   "metadata": {},
   "source": [
    "### Variables Booleanas"
   ]
  },
  {
   "cell_type": "code",
   "execution_count": 3,
   "id": "0b3be4fb-1b57-4722-9945-a932d5662b4e",
   "metadata": {},
   "outputs": [],
   "source": [
    "node = client.get_node('ns=2;i=2')"
   ]
  },
  {
   "cell_type": "code",
   "execution_count": 5,
   "id": "f7082762-caf1-445a-9be9-f10ad563bd99",
   "metadata": {},
   "outputs": [
    {
     "name": "stdout",
     "output_type": "stream",
     "text": [
      "before:  False\n",
      "after:  True\n"
     ]
    }
   ],
   "source": [
    "print(\"before: \", node.get_value())\n",
    "node.set_value(ua.DataValue(ua.Variant(True, ua.VariantType.Boolean)))\n",
    "print(\"after: \", node.get_value())"
   ]
  },
  {
   "cell_type": "markdown",
   "id": "1eb1427b-94e1-40db-bc29-e6a7f41d7c03",
   "metadata": {},
   "source": [
    "#### client.disconnect()\n",
    "print(\"Disconnected\")"
   ]
  },
  {
   "cell_type": "code",
   "execution_count": null,
   "id": "6e218e68-cc5d-4055-b2b0-3c4c482feb71",
   "metadata": {},
   "outputs": [],
   "source": []
  }
 ],
 "metadata": {
  "kernelspec": {
   "display_name": "Python 3 (ipykernel)",
   "language": "python",
   "name": "python3"
  },
  "language_info": {
   "codemirror_mode": {
    "name": "ipython",
    "version": 3
   },
   "file_extension": ".py",
   "mimetype": "text/x-python",
   "name": "python",
   "nbconvert_exporter": "python",
   "pygments_lexer": "ipython3",
   "version": "3.11.6"
  }
 },
 "nbformat": 4,
 "nbformat_minor": 5
}
