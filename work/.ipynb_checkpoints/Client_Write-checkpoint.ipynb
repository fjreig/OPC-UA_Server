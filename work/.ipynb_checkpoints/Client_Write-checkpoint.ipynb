{
 "cells": [
  {
   "cell_type": "code",
   "execution_count": 1,
   "id": "1c8bb52e-6db5-4fb5-83b1-3316b8cd46bb",
   "metadata": {},
   "outputs": [],
   "source": [
    "from opcua import Client, ua"
   ]
  },
  {
   "cell_type": "code",
   "execution_count": 2,
   "id": "c0de9971-27db-4982-a582-b95bd211cee1",
   "metadata": {},
   "outputs": [
    {
     "name": "stdout",
     "output_type": "stream",
     "text": [
      "Connected: opc.tcp://10.116.0.2:4840\n"
     ]
    }
   ],
   "source": [
    "url = \"opc.tcp://10.116.0.2:4840\"\n",
    "client = Client(url)\n",
    "client.session_timeout = 30000\n",
    "client.connect()\n",
    "print(f\"Connected: {url}\")"
   ]
  },
  {
   "cell_type": "code",
   "execution_count": 5,
   "id": "3fdcf034-7936-4b7e-8d39-aba999298c4b",
   "metadata": {},
   "outputs": [],
   "source": [
    "node1 = client.get_node('ns=2;s=Inversor1.PA')\n",
    "node2 = client.get_node('ns=2;s=Inversor1.EA')"
   ]
  },
  {
   "cell_type": "code",
   "execution_count": 8,
   "id": "89e81176-f18e-412e-a0fa-4bd5ee3072cc",
   "metadata": {},
   "outputs": [],
   "source": [
    "value1 = node1.get_value()\n",
    "node1.set_value(ua.DataValue(ua.Variant(40, ua.VariantType.Double)))\n",
    "value2 = node1.get_value()"
   ]
  },
  {
   "cell_type": "code",
   "execution_count": 9,
   "id": "06e247af-263e-45b8-a96b-7fb6a4802d73",
   "metadata": {},
   "outputs": [
    {
     "name": "stdout",
     "output_type": "stream",
     "text": [
      "0.5 40.0\n"
     ]
    }
   ],
   "source": [
    "print(value1, value2)"
   ]
  },
  {
   "cell_type": "code",
   "execution_count": 14,
   "id": "2099242c-d925-415a-a8b0-6f8ce4a253a5",
   "metadata": {},
   "outputs": [],
   "source": [
    "value1 = node2.get_value()\n",
    "node2.set_value(ua.DataValue(ua.Variant(40.5, ua.VariantType.Double)))\n",
    "value2 = node2.get_value()"
   ]
  },
  {
   "cell_type": "code",
   "execution_count": null,
   "id": "9d0d0c44-1c52-4f6d-8f38-25d1b3a6897d",
   "metadata": {},
   "outputs": [],
   "source": []
  }
 ],
 "metadata": {
  "kernelspec": {
   "display_name": "Python 3 (ipykernel)",
   "language": "python",
   "name": "python3"
  },
  "language_info": {
   "codemirror_mode": {
    "name": "ipython",
    "version": 3
   },
   "file_extension": ".py",
   "mimetype": "text/x-python",
   "name": "python",
   "nbconvert_exporter": "python",
   "pygments_lexer": "ipython3",
   "version": "3.11.6"
  }
 },
 "nbformat": 4,
 "nbformat_minor": 5
}
