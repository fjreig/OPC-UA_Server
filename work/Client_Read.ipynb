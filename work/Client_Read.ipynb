{
 "cells": [
  {
   "cell_type": "code",
   "execution_count": 2,
   "id": "8ab6cd34-7688-42c7-921e-6ed28f5fd1c0",
   "metadata": {},
   "outputs": [],
   "source": [
    "#!pip install opcua\n",
    "#!pip install cryptography"
   ]
  },
  {
   "cell_type": "code",
   "execution_count": 29,
   "id": "928cc56f-e9a4-4d45-820d-6b7f35c6ca34",
   "metadata": {},
   "outputs": [],
   "source": [
    "from opcua import Client\n",
    "import time"
   ]
  },
  {
   "cell_type": "code",
   "execution_count": 38,
   "id": "bf69aa4e-11f8-4740-8aa7-6efef5ed7852",
   "metadata": {},
   "outputs": [],
   "source": [
    "url = \"opc.tcp://10.116.0.2:4840\""
   ]
  },
  {
   "cell_type": "code",
   "execution_count": 39,
   "id": "ec775170-08eb-4d52-aae2-00f4476b4341",
   "metadata": {},
   "outputs": [],
   "source": [
    "client = Client(url)"
   ]
  },
  {
   "cell_type": "code",
   "execution_count": 40,
   "id": "bc2ddf8b-6397-4073-a743-061e4aaef3e0",
   "metadata": {},
   "outputs": [],
   "source": [
    "client.session_timeout = 30000 "
   ]
  },
  {
   "cell_type": "code",
   "execution_count": 41,
   "id": "a7c8ad35-9d6c-4c11-86c0-206f35350983",
   "metadata": {},
   "outputs": [],
   "source": [
    "client.connect()"
   ]
  },
  {
   "cell_type": "code",
   "execution_count": 42,
   "id": "f6523179-7fac-406d-b4ec-768dac308d5b",
   "metadata": {},
   "outputs": [
    {
     "name": "stdout",
     "output_type": "stream",
     "text": [
      "Client Connect\n"
     ]
    }
   ],
   "source": [
    "print(\"Client Connect\")"
   ]
  },
  {
   "cell_type": "code",
   "execution_count": 44,
   "id": "f22ba1e0-173c-40c6-9c4e-c37d70ecb68d",
   "metadata": {},
   "outputs": [
    {
     "name": "stdout",
     "output_type": "stream",
     "text": [
      "538.34\n"
     ]
    }
   ],
   "source": [
    "Entrada1 = client.get_node('ns=2;s=Inversor1.vs1')\n",
    "Entrada1_valor = Entrada1.get_value()\n",
    "print(Entrada1_valor)"
   ]
  },
  {
   "cell_type": "code",
   "execution_count": 17,
   "id": "a731fa15-b323-428e-adbe-d59b96fc6a31",
   "metadata": {},
   "outputs": [
    {
     "name": "stdout",
     "output_type": "stream",
     "text": [
      "10.5\n",
      "10.5\n",
      "10.5\n",
      "10.5\n",
      "10.5\n",
      "10.5\n",
      "10.5\n",
      "10.5\n",
      "10.5\n",
      "10.5\n",
      "10.5\n",
      "10.5\n",
      "10.5\n",
      "10.5\n",
      "10.5\n",
      "10.5\n",
      "10.5\n",
      "10.5\n",
      "10.5\n",
      "10.5\n",
      "10.5\n",
      "10.5\n",
      "10.5\n"
     ]
    },
    {
     "ename": "TimeoutError",
     "evalue": "",
     "output_type": "error",
     "traceback": [
      "\u001b[0;31m---------------------------------------------------------------------------\u001b[0m",
      "\u001b[0;31mTimeoutError\u001b[0m                              Traceback (most recent call last)",
      "Cell \u001b[0;32mIn[17], line 3\u001b[0m\n\u001b[1;32m      1\u001b[0m \u001b[38;5;28;01mwhile\u001b[39;00m \u001b[38;5;28;01mTrue\u001b[39;00m:\n\u001b[1;32m      2\u001b[0m     Entrada1 \u001b[38;5;241m=\u001b[39m client\u001b[38;5;241m.\u001b[39mget_node(\u001b[38;5;124m'\u001b[39m\u001b[38;5;124mns=2;s=freeopcua.Tags.pressure\u001b[39m\u001b[38;5;124m'\u001b[39m)\n\u001b[0;32m----> 3\u001b[0m     Entrada1_valor \u001b[38;5;241m=\u001b[39m \u001b[43mEntrada1\u001b[49m\u001b[38;5;241;43m.\u001b[39;49m\u001b[43mget_value\u001b[49m\u001b[43m(\u001b[49m\u001b[43m)\u001b[49m\n\u001b[1;32m      4\u001b[0m     \u001b[38;5;28mprint\u001b[39m(Entrada1_valor)\n\u001b[1;32m      5\u001b[0m     time\u001b[38;5;241m.\u001b[39msleep(\u001b[38;5;241m1\u001b[39m)\n",
      "File \u001b[0;32m/opt/conda/lib/python3.11/site-packages/opcua/common/node.py:155\u001b[0m, in \u001b[0;36mNode.get_value\u001b[0;34m(self)\u001b[0m\n\u001b[1;32m    148\u001b[0m \u001b[38;5;28;01mdef\u001b[39;00m \u001b[38;5;21mget_value\u001b[39m(\u001b[38;5;28mself\u001b[39m):\n\u001b[1;32m    149\u001b[0m \u001b[38;5;250m    \u001b[39m\u001b[38;5;124;03m\"\"\"\u001b[39;00m\n\u001b[1;32m    150\u001b[0m \u001b[38;5;124;03m    Get value of a node as a python type. Only variables ( and properties) have values.\u001b[39;00m\n\u001b[1;32m    151\u001b[0m \u001b[38;5;124;03m    An exception will be generated for other node types.\u001b[39;00m\n\u001b[1;32m    152\u001b[0m \u001b[38;5;124;03m    WARNING: on server side, this function returns a ref to object in ua database. Do not modify it if it is a mutable\u001b[39;00m\n\u001b[1;32m    153\u001b[0m \u001b[38;5;124;03m    object unless you know what you are doing\u001b[39;00m\n\u001b[1;32m    154\u001b[0m \u001b[38;5;124;03m    \"\"\"\u001b[39;00m\n\u001b[0;32m--> 155\u001b[0m     result \u001b[38;5;241m=\u001b[39m \u001b[38;5;28;43mself\u001b[39;49m\u001b[38;5;241;43m.\u001b[39;49m\u001b[43mget_data_value\u001b[49m\u001b[43m(\u001b[49m\u001b[43m)\u001b[49m\n\u001b[1;32m    156\u001b[0m     \u001b[38;5;28;01mreturn\u001b[39;00m result\u001b[38;5;241m.\u001b[39mValue\u001b[38;5;241m.\u001b[39mValue\n",
      "File \u001b[0;32m/opt/conda/lib/python3.11/site-packages/opcua/common/node.py:164\u001b[0m, in \u001b[0;36mNode.get_data_value\u001b[0;34m(self)\u001b[0m\n\u001b[1;32m    158\u001b[0m \u001b[38;5;28;01mdef\u001b[39;00m \u001b[38;5;21mget_data_value\u001b[39m(\u001b[38;5;28mself\u001b[39m):\n\u001b[1;32m    159\u001b[0m \u001b[38;5;250m    \u001b[39m\u001b[38;5;124;03m\"\"\"\u001b[39;00m\n\u001b[1;32m    160\u001b[0m \u001b[38;5;124;03m    Get value of a node as a DataValue object. Only variables (and properties) have values.\u001b[39;00m\n\u001b[1;32m    161\u001b[0m \u001b[38;5;124;03m    An exception will be generated for other node types.\u001b[39;00m\n\u001b[1;32m    162\u001b[0m \u001b[38;5;124;03m    DataValue contain a variable value as a variant as well as server and source timestamps\u001b[39;00m\n\u001b[1;32m    163\u001b[0m \u001b[38;5;124;03m    \"\"\"\u001b[39;00m\n\u001b[0;32m--> 164\u001b[0m     \u001b[38;5;28;01mreturn\u001b[39;00m \u001b[38;5;28;43mself\u001b[39;49m\u001b[38;5;241;43m.\u001b[39;49m\u001b[43mget_attribute\u001b[49m\u001b[43m(\u001b[49m\u001b[43mua\u001b[49m\u001b[38;5;241;43m.\u001b[39;49m\u001b[43mAttributeIds\u001b[49m\u001b[38;5;241;43m.\u001b[39;49m\u001b[43mValue\u001b[49m\u001b[43m)\u001b[49m\n",
      "File \u001b[0;32m/opt/conda/lib/python3.11/site-packages/opcua/common/node.py:275\u001b[0m, in \u001b[0;36mNode.get_attribute\u001b[0;34m(self, attr)\u001b[0m\n\u001b[1;32m    273\u001b[0m params \u001b[38;5;241m=\u001b[39m ua\u001b[38;5;241m.\u001b[39mReadParameters()\n\u001b[1;32m    274\u001b[0m params\u001b[38;5;241m.\u001b[39mNodesToRead\u001b[38;5;241m.\u001b[39mappend(rv)\n\u001b[0;32m--> 275\u001b[0m result \u001b[38;5;241m=\u001b[39m \u001b[38;5;28;43mself\u001b[39;49m\u001b[38;5;241;43m.\u001b[39;49m\u001b[43mserver\u001b[49m\u001b[38;5;241;43m.\u001b[39;49m\u001b[43mread\u001b[49m\u001b[43m(\u001b[49m\u001b[43mparams\u001b[49m\u001b[43m)\u001b[49m\n\u001b[1;32m    276\u001b[0m result[\u001b[38;5;241m0\u001b[39m]\u001b[38;5;241m.\u001b[39mStatusCode\u001b[38;5;241m.\u001b[39mcheck()\n\u001b[1;32m    277\u001b[0m \u001b[38;5;28;01mreturn\u001b[39;00m result[\u001b[38;5;241m0\u001b[39m]\n",
      "File \u001b[0;32m/opt/conda/lib/python3.11/site-packages/opcua/client/ua_client.py:347\u001b[0m, in \u001b[0;36mUaClient.read\u001b[0;34m(self, parameters)\u001b[0m\n\u001b[1;32m    345\u001b[0m request \u001b[38;5;241m=\u001b[39m ua\u001b[38;5;241m.\u001b[39mReadRequest()\n\u001b[1;32m    346\u001b[0m request\u001b[38;5;241m.\u001b[39mParameters \u001b[38;5;241m=\u001b[39m parameters\n\u001b[0;32m--> 347\u001b[0m data \u001b[38;5;241m=\u001b[39m \u001b[38;5;28;43mself\u001b[39;49m\u001b[38;5;241;43m.\u001b[39;49m\u001b[43m_uasocket\u001b[49m\u001b[38;5;241;43m.\u001b[39;49m\u001b[43msend_request\u001b[49m\u001b[43m(\u001b[49m\u001b[43mrequest\u001b[49m\u001b[43m)\u001b[49m\n\u001b[1;32m    348\u001b[0m response \u001b[38;5;241m=\u001b[39m struct_from_binary(ua\u001b[38;5;241m.\u001b[39mReadResponse, data)\n\u001b[1;32m    349\u001b[0m \u001b[38;5;28mself\u001b[39m\u001b[38;5;241m.\u001b[39mlogger\u001b[38;5;241m.\u001b[39mdebug(response)\n",
      "File \u001b[0;32m/opt/conda/lib/python3.11/site-packages/opcua/client/ua_client.py:83\u001b[0m, in \u001b[0;36mUASocketClient.send_request\u001b[0;34m(self, request, callback, timeout, message_type)\u001b[0m\n\u001b[1;32m     81\u001b[0m future \u001b[38;5;241m=\u001b[39m \u001b[38;5;28mself\u001b[39m\u001b[38;5;241m.\u001b[39m_send_request(request, callback, timeout, message_type)\n\u001b[1;32m     82\u001b[0m \u001b[38;5;28;01mif\u001b[39;00m \u001b[38;5;129;01mnot\u001b[39;00m callback:\n\u001b[0;32m---> 83\u001b[0m     data \u001b[38;5;241m=\u001b[39m \u001b[43mfuture\u001b[49m\u001b[38;5;241;43m.\u001b[39;49m\u001b[43mresult\u001b[49m\u001b[43m(\u001b[49m\u001b[38;5;28;43mself\u001b[39;49m\u001b[38;5;241;43m.\u001b[39;49m\u001b[43mtimeout\u001b[49m\u001b[43m)\u001b[49m\n\u001b[1;32m     84\u001b[0m     \u001b[38;5;28mself\u001b[39m\u001b[38;5;241m.\u001b[39mcheck_answer(data, \u001b[38;5;124m\"\u001b[39m\u001b[38;5;124m in response to \u001b[39m\u001b[38;5;124m\"\u001b[39m \u001b[38;5;241m+\u001b[39m request\u001b[38;5;241m.\u001b[39m\u001b[38;5;18m__class__\u001b[39m\u001b[38;5;241m.\u001b[39m\u001b[38;5;18m__name__\u001b[39m)\n\u001b[1;32m     85\u001b[0m     \u001b[38;5;28;01mreturn\u001b[39;00m data\n",
      "File \u001b[0;32m/opt/conda/lib/python3.11/concurrent/futures/_base.py:458\u001b[0m, in \u001b[0;36mFuture.result\u001b[0;34m(self, timeout)\u001b[0m\n\u001b[1;32m    456\u001b[0m             \u001b[38;5;28;01mreturn\u001b[39;00m \u001b[38;5;28mself\u001b[39m\u001b[38;5;241m.\u001b[39m__get_result()\n\u001b[1;32m    457\u001b[0m         \u001b[38;5;28;01melse\u001b[39;00m:\n\u001b[0;32m--> 458\u001b[0m             \u001b[38;5;28;01mraise\u001b[39;00m \u001b[38;5;167;01mTimeoutError\u001b[39;00m()\n\u001b[1;32m    459\u001b[0m \u001b[38;5;28;01mfinally\u001b[39;00m:\n\u001b[1;32m    460\u001b[0m     \u001b[38;5;66;03m# Break a reference cycle with the exception in self._exception\u001b[39;00m\n\u001b[1;32m    461\u001b[0m     \u001b[38;5;28mself\u001b[39m \u001b[38;5;241m=\u001b[39m \u001b[38;5;28;01mNone\u001b[39;00m\n",
      "\u001b[0;31mTimeoutError\u001b[0m: "
     ]
    }
   ],
   "source": [
    "while True:\n",
    "    Entrada1 = client.get_node('ns=2;s=freeopcua.Tags.pressure')\n",
    "    Entrada1_valor = Entrada1.get_value()\n",
    "    print(Entrada1_valor)\n",
    "    time.sleep(1)"
   ]
  },
  {
   "cell_type": "code",
   "execution_count": 16,
   "id": "145d0a2b-d607-4d8e-81c1-4a79aa4dd57f",
   "metadata": {},
   "outputs": [],
   "source": [
    "client.disconnect()"
   ]
  },
  {
   "cell_type": "code",
   "execution_count": null,
   "id": "d932c6d5-9e1e-4fd1-917e-b7824397e985",
   "metadata": {},
   "outputs": [],
   "source": []
  }
 ],
 "metadata": {
  "kernelspec": {
   "display_name": "Python 3 (ipykernel)",
   "language": "python",
   "name": "python3"
  },
  "language_info": {
   "codemirror_mode": {
    "name": "ipython",
    "version": 3
   },
   "file_extension": ".py",
   "mimetype": "text/x-python",
   "name": "python",
   "nbconvert_exporter": "python",
   "pygments_lexer": "ipython3",
   "version": "3.11.6"
  }
 },
 "nbformat": 4,
 "nbformat_minor": 5
}
