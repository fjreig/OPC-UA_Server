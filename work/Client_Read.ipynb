{
 "cells": [
  {
   "cell_type": "code",
   "execution_count": 1,
   "id": "8ab6cd34-7688-42c7-921e-6ed28f5fd1c0",
   "metadata": {},
   "outputs": [
    {
     "name": "stdout",
     "output_type": "stream",
     "text": [
      "Collecting freeopcua\n",
      "  Downloading freeopcua-0.90.6.tar.gz (833 bytes)\n",
      "  Preparing metadata (setup.py) ... \u001b[?25ldone\n",
      "\u001b[?25hCollecting opcua (from freeopcua)\n",
      "  Downloading opcua-0.98.13.tar.gz (572 kB)\n",
      "\u001b[2K     \u001b[90m━━━━━━━━━━━━━━━━━━━━━━━━━━━━━━━━━━━━━━━\u001b[0m \u001b[32m572.8/572.8 kB\u001b[0m \u001b[31m7.4 MB/s\u001b[0m eta \u001b[36m0:00:00\u001b[0m00:01\u001b[0m00:01\u001b[0m\n",
      "\u001b[?25h  Preparing metadata (setup.py) ... \u001b[?25ldone\n",
      "\u001b[?25hCollecting lxml (from opcua->freeopcua)\n",
      "  Downloading lxml-4.9.3-cp311-cp311-manylinux_2_28_x86_64.whl.metadata (3.8 kB)\n",
      "Requirement already satisfied: python-dateutil in /opt/conda/lib/python3.11/site-packages (from opcua->freeopcua) (2.8.2)\n",
      "Requirement already satisfied: pytz in /opt/conda/lib/python3.11/site-packages (from opcua->freeopcua) (2023.3.post1)\n",
      "Requirement already satisfied: six>=1.5 in /opt/conda/lib/python3.11/site-packages (from python-dateutil->opcua->freeopcua) (1.16.0)\n",
      "Downloading lxml-4.9.3-cp311-cp311-manylinux_2_28_x86_64.whl (7.9 MB)\n",
      "\u001b[2K   \u001b[90m━━━━━━━━━━━━━━━━━━━━━━━━━━━━━━━━━━━━━━━━\u001b[0m \u001b[32m7.9/7.9 MB\u001b[0m \u001b[31m16.7 MB/s\u001b[0m eta \u001b[36m0:00:00\u001b[0m00:01\u001b[0m00:01\u001b[0m\n",
      "\u001b[?25hBuilding wheels for collected packages: freeopcua, opcua\n",
      "  Building wheel for freeopcua (setup.py) ... \u001b[?25ldone\n",
      "\u001b[?25h  Created wheel for freeopcua: filename=freeopcua-0.90.6-py3-none-any.whl size=1126 sha256=7a2dea1b38c60d9a57c1fb599a68a9158fd0001730b4cd523084814bcd8dc5cd\n",
      "  Stored in directory: /home/jovyan/.cache/pip/wheels/4b/1d/d7/0f13db972b827e81e958787d4bbdf353a2631a068a709f4f16\n",
      "  Building wheel for opcua (setup.py) ... \u001b[?25ldone\n",
      "\u001b[?25h  Created wheel for opcua: filename=opcua-0.98.13-py3-none-any.whl size=628133 sha256=f00b6bcd8563b18dc492085ba2c9ef945b401d874d32c36b4336ba4c295540b9\n",
      "  Stored in directory: /home/jovyan/.cache/pip/wheels/b0/6b/50/59e5a97aa96b6a62814e40e12f987a10df4980754f5ed5641e\n",
      "Successfully built freeopcua opcua\n",
      "Installing collected packages: lxml, opcua, freeopcua\n",
      "Successfully installed freeopcua-0.90.6 lxml-4.9.3 opcua-0.98.13\n"
     ]
    }
   ],
   "source": [
    "!pip install freeopcua\n",
    "#!pip install cryptography"
   ]
  },
  {
   "cell_type": "code",
   "execution_count": 2,
   "id": "928cc56f-e9a4-4d45-820d-6b7f35c6ca34",
   "metadata": {},
   "outputs": [],
   "source": [
    "from opcua import Client\n",
    "import time"
   ]
  },
  {
   "cell_type": "code",
   "execution_count": 7,
   "id": "bf69aa4e-11f8-4740-8aa7-6efef5ed7852",
   "metadata": {},
   "outputs": [],
   "source": [
    "url = \"opc.tcp://10.116.0.2:4840\""
   ]
  },
  {
   "cell_type": "code",
   "execution_count": 8,
   "id": "ec775170-08eb-4d52-aae2-00f4476b4341",
   "metadata": {},
   "outputs": [],
   "source": [
    "client = Client(url)"
   ]
  },
  {
   "cell_type": "code",
   "execution_count": 9,
   "id": "bc2ddf8b-6397-4073-a743-061e4aaef3e0",
   "metadata": {},
   "outputs": [],
   "source": [
    "client.session_timeout = 30000 "
   ]
  },
  {
   "cell_type": "code",
   "execution_count": 10,
   "id": "a7c8ad35-9d6c-4c11-86c0-206f35350983",
   "metadata": {},
   "outputs": [],
   "source": [
    "client.connect()"
   ]
  },
  {
   "cell_type": "code",
   "execution_count": 11,
   "id": "f6523179-7fac-406d-b4ec-768dac308d5b",
   "metadata": {},
   "outputs": [
    {
     "name": "stdout",
     "output_type": "stream",
     "text": [
      "Client Connect\n"
     ]
    }
   ],
   "source": [
    "print(\"Client Connect\")"
   ]
  },
  {
   "cell_type": "code",
   "execution_count": 14,
   "id": "f22ba1e0-173c-40c6-9c4e-c37d70ecb68d",
   "metadata": {},
   "outputs": [
    {
     "name": "stdout",
     "output_type": "stream",
     "text": [
      "65\n"
     ]
    }
   ],
   "source": [
    "Entrada1 = client.get_node('ns=4;s=freeopcua.Tags.voltage')\n",
    "Entrada1_valor = Entrada1.get_value()\n",
    "print(Entrada1_valor)"
   ]
  },
  {
   "cell_type": "code",
   "execution_count": 15,
   "id": "a731fa15-b323-428e-adbe-d59b96fc6a31",
   "metadata": {},
   "outputs": [
    {
     "name": "stdout",
     "output_type": "stream",
     "text": [
      "29.004303807886547\n",
      "28.862751340655308\n",
      "28.86308123477542\n",
      "28.582583197291033\n",
      "29.131231274997194\n",
      "29.59977840332085\n",
      "30.086104177374352\n",
      "30.45429283132801\n",
      "30.12521912246497\n",
      "30.670307157419344\n",
      "30.590363478758107\n"
     ]
    },
    {
     "ename": "KeyboardInterrupt",
     "evalue": "",
     "output_type": "error",
     "traceback": [
      "\u001b[0;31m---------------------------------------------------------------------------\u001b[0m",
      "\u001b[0;31mKeyboardInterrupt\u001b[0m                         Traceback (most recent call last)",
      "Cell \u001b[0;32mIn[15], line 5\u001b[0m\n\u001b[1;32m      3\u001b[0m Entrada1_valor \u001b[38;5;241m=\u001b[39m Entrada1\u001b[38;5;241m.\u001b[39mget_value()\n\u001b[1;32m      4\u001b[0m \u001b[38;5;28mprint\u001b[39m(Entrada1_valor)\n\u001b[0;32m----> 5\u001b[0m time\u001b[38;5;241m.\u001b[39msleep(\u001b[38;5;241m1\u001b[39m)\n",
      "\u001b[0;31mKeyboardInterrupt\u001b[0m: "
     ]
    }
   ],
   "source": [
    "while True:\n",
    "    Entrada1 = client.get_node('ns=2;s=freeopcua.Tags.pressure')\n",
    "    Entrada1_valor = Entrada1.get_value()\n",
    "    print(Entrada1_valor)\n",
    "    time.sleep(1)"
   ]
  },
  {
   "cell_type": "code",
   "execution_count": 16,
   "id": "145d0a2b-d607-4d8e-81c1-4a79aa4dd57f",
   "metadata": {},
   "outputs": [],
   "source": [
    "client.disconnect()"
   ]
  },
  {
   "cell_type": "code",
   "execution_count": null,
   "id": "d932c6d5-9e1e-4fd1-917e-b7824397e985",
   "metadata": {},
   "outputs": [],
   "source": []
  }
 ],
 "metadata": {
  "kernelspec": {
   "display_name": "Python 3 (ipykernel)",
   "language": "python",
   "name": "python3"
  },
  "language_info": {
   "codemirror_mode": {
    "name": "ipython",
    "version": 3
   },
   "file_extension": ".py",
   "mimetype": "text/x-python",
   "name": "python",
   "nbconvert_exporter": "python",
   "pygments_lexer": "ipython3",
   "version": "3.11.6"
  }
 },
 "nbformat": 4,
 "nbformat_minor": 5
}
