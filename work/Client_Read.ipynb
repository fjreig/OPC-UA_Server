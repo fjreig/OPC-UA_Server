{
 "cells": [
  {
   "cell_type": "code",
   "execution_count": 2,
   "id": "8ab6cd34-7688-42c7-921e-6ed28f5fd1c0",
   "metadata": {},
   "outputs": [],
   "source": [
    "#!pip install opcua\n",
    "#!pip install cryptography"
   ]
  },
  {
   "cell_type": "code",
   "execution_count": 3,
   "id": "928cc56f-e9a4-4d45-820d-6b7f35c6ca34",
   "metadata": {},
   "outputs": [],
   "source": [
    "from opcua import Client\n",
    "import time"
   ]
  },
  {
   "cell_type": "code",
   "execution_count": 4,
   "id": "bf69aa4e-11f8-4740-8aa7-6efef5ed7852",
   "metadata": {},
   "outputs": [],
   "source": [
    "url = \"opc.tcp://10.116.0.2:4840\""
   ]
  },
  {
   "cell_type": "code",
   "execution_count": 5,
   "id": "ec775170-08eb-4d52-aae2-00f4476b4341",
   "metadata": {},
   "outputs": [],
   "source": [
    "client = Client(url)"
   ]
  },
  {
   "cell_type": "code",
   "execution_count": 6,
   "id": "bc2ddf8b-6397-4073-a743-061e4aaef3e0",
   "metadata": {},
   "outputs": [],
   "source": [
    "client.session_timeout = 30000 "
   ]
  },
  {
   "cell_type": "code",
   "execution_count": 7,
   "id": "a7c8ad35-9d6c-4c11-86c0-206f35350983",
   "metadata": {},
   "outputs": [],
   "source": [
    "client.connect()"
   ]
  },
  {
   "cell_type": "code",
   "execution_count": 8,
   "id": "f6523179-7fac-406d-b4ec-768dac308d5b",
   "metadata": {},
   "outputs": [
    {
     "name": "stdout",
     "output_type": "stream",
     "text": [
      "Client Connect\n"
     ]
    }
   ],
   "source": [
    "print(\"Client Connect\")"
   ]
  },
  {
   "cell_type": "code",
   "execution_count": 10,
   "id": "f22ba1e0-173c-40c6-9c4e-c37d70ecb68d",
   "metadata": {},
   "outputs": [
    {
     "name": "stdout",
     "output_type": "stream",
     "text": [
      "0.5\n"
     ]
    }
   ],
   "source": [
    "Entrada1 = client.get_node('ns=2;s=Inversor1.PA')\n",
    "Entrada1_valor = Entrada1.get_value()\n",
    "print(Entrada1_valor)"
   ]
  },
  {
   "cell_type": "code",
   "execution_count": 11,
   "id": "a731fa15-b323-428e-adbe-d59b96fc6a31",
   "metadata": {},
   "outputs": [
    {
     "name": "stdout",
     "output_type": "stream",
     "text": [
      "651.99\n",
      "618.27\n",
      "533.13\n",
      "528.46\n",
      "507.23\n",
      "566.35\n",
      "688.65\n",
      "598.09\n"
     ]
    },
    {
     "ename": "KeyboardInterrupt",
     "evalue": "",
     "output_type": "error",
     "traceback": [
      "\u001b[0;31m---------------------------------------------------------------------------\u001b[0m",
      "\u001b[0;31mKeyboardInterrupt\u001b[0m                         Traceback (most recent call last)",
      "Cell \u001b[0;32mIn[11], line 5\u001b[0m\n\u001b[1;32m      3\u001b[0m Entrada1_valor \u001b[38;5;241m=\u001b[39m Entrada1\u001b[38;5;241m.\u001b[39mget_value()\n\u001b[1;32m      4\u001b[0m \u001b[38;5;28mprint\u001b[39m(Entrada1_valor)\n\u001b[0;32m----> 5\u001b[0m time\u001b[38;5;241m.\u001b[39msleep(\u001b[38;5;241m1\u001b[39m)\n",
      "\u001b[0;31mKeyboardInterrupt\u001b[0m: "
     ]
    }
   ],
   "source": [
    "while True:\n",
    "    Entrada1 = client.get_node('ns=2;s=Inversor1.vs1')\n",
    "    Entrada1_valor = Entrada1.get_value()\n",
    "    print(Entrada1_valor)\n",
    "    time.sleep(1)"
   ]
  },
  {
   "cell_type": "code",
   "execution_count": 16,
   "id": "145d0a2b-d607-4d8e-81c1-4a79aa4dd57f",
   "metadata": {},
   "outputs": [],
   "source": [
    "client.disconnect()"
   ]
  },
  {
   "cell_type": "code",
   "execution_count": null,
   "id": "d932c6d5-9e1e-4fd1-917e-b7824397e985",
   "metadata": {},
   "outputs": [],
   "source": []
  }
 ],
 "metadata": {
  "kernelspec": {
   "display_name": "Python 3 (ipykernel)",
   "language": "python",
   "name": "python3"
  },
  "language_info": {
   "codemirror_mode": {
    "name": "ipython",
    "version": 3
   },
   "file_extension": ".py",
   "mimetype": "text/x-python",
   "name": "python",
   "nbconvert_exporter": "python",
   "pygments_lexer": "ipython3",
   "version": "3.11.6"
  }
 },
 "nbformat": 4,
 "nbformat_minor": 5
}
