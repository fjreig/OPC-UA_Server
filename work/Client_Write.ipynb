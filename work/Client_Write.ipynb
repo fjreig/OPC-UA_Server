{
 "cells": [
  {
   "cell_type": "code",
   "execution_count": 1,
   "id": "1c8bb52e-6db5-4fb5-83b1-3316b8cd46bb",
   "metadata": {},
   "outputs": [],
   "source": [
    "from opcua import Client, ua"
   ]
  },
  {
   "cell_type": "code",
   "execution_count": 2,
   "id": "c0de9971-27db-4982-a582-b95bd211cee1",
   "metadata": {},
   "outputs": [
    {
     "name": "stdout",
     "output_type": "stream",
     "text": [
      "Connected: opc.tcp://10.116.0.2:4840\n"
     ]
    }
   ],
   "source": [
    "url = \"opc.tcp://10.116.0.2:4840\"\n",
    "client = Client(url)\n",
    "client.session_timeout = 30000\n",
    "client.connect()\n",
    "print(f\"Connected: {url}\")"
   ]
  },
  {
   "cell_type": "code",
   "execution_count": 5,
   "id": "3fdcf034-7936-4b7e-8d39-aba999298c4b",
   "metadata": {},
   "outputs": [],
   "source": [
    "node1 = client.get_node('ns=2;s=Inversor1.PA')\n",
    "node2 = client.get_node('ns=2;s=Inversor1.EA')"
   ]
  },
  {
   "cell_type": "code",
   "execution_count": 8,
   "id": "89e81176-f18e-412e-a0fa-4bd5ee3072cc",
   "metadata": {},
   "outputs": [],
   "source": [
    "value1 = node1.get_value()\n",
    "node1.set_value(ua.DataValue(ua.Variant(40, ua.VariantType.Double)))\n",
    "value2 = node1.get_value()"
   ]
  },
  {
   "cell_type": "code",
   "execution_count": 9,
   "id": "06e247af-263e-45b8-a96b-7fb6a4802d73",
   "metadata": {},
   "outputs": [
    {
     "name": "stdout",
     "output_type": "stream",
     "text": [
      "0.5 40.0\n"
     ]
    }
   ],
   "source": [
    "print(value1, value2)"
   ]
  },
  {
   "cell_type": "code",
   "execution_count": 14,
   "id": "2099242c-d925-415a-a8b0-6f8ce4a253a5",
   "metadata": {},
   "outputs": [],
   "source": [
    "value1 = node2.get_value()\n",
    "node2.set_value(ua.DataValue(ua.Variant(40.5, ua.VariantType.Double)))\n",
    "value2 = node2.get_value()"
   ]
  },
  {
   "cell_type": "markdown",
   "id": "3f8a73d2-8f14-4a6f-9a8f-33c01768a2ad",
   "metadata": {},
   "source": [
    "### MultipeWrite"
   ]
  },
  {
   "cell_type": "code",
   "execution_count": 15,
   "id": "8a11ef75-e892-41c3-85ff-508411a14852",
   "metadata": {},
   "outputs": [],
   "source": [
    "variables = [\"ns=2;s=Inversor1.PA\", \n",
    "    \"ns=2;s=Inversor1.PA_peak\", \"ns=2;s=Inversor1.EA\", \"ns=2;s=Inversor1.EA_hoy\"]"
   ]
  },
  {
   "cell_type": "code",
   "execution_count": 17,
   "id": "fac3d893-dc00-45c7-8815-f926ab4132eb",
   "metadata": {},
   "outputs": [],
   "source": [
    "valores = [10,0,0,1]"
   ]
  },
  {
   "cell_type": "code",
   "execution_count": 25,
   "id": "b7025371-906a-471e-955c-77f2694d75f4",
   "metadata": {},
   "outputs": [
    {
     "name": "stdout",
     "output_type": "stream",
     "text": [
      "{'ns=2;s=Inversor1.PA': 10.0}\n",
      "{'ns=2;s=Inversor1.PA_peak': 0.0}\n",
      "{'ns=2;s=Inversor1.EA': 0.0}\n",
      "{'ns=2;s=Inversor1.EA_hoy': 1.0}\n"
     ]
    }
   ],
   "source": [
    "for i in range(len(variables)):\n",
    "    print({variables[i]:client.get_node((variables[i])).get_value()})"
   ]
  },
  {
   "cell_type": "code",
   "execution_count": 24,
   "id": "70c1acaa-86f0-46b4-9714-662fed768a1b",
   "metadata": {},
   "outputs": [],
   "source": [
    "for i in range(len(variables)):\n",
    "    client.get_node((variables[i])).set_value(ua.DataValue(ua.Variant(valores[i], ua.VariantType.Double)))"
   ]
  },
  {
   "cell_type": "code",
   "execution_count": 26,
   "id": "0e58e571-0537-4f9b-b562-dfe1fc994911",
   "metadata": {},
   "outputs": [],
   "source": [
    "variables = [\"PA\", \"PA_peak\", \"EA\",\"EA_hoy\", \"Estado\",\"Temperatura\",\n",
    "        \"Raislamiento\", \"V1\", \"V2\",\"V3\",\"I1\", \"I2\", \"I3\",\n",
    "        \"vs1\", \"vs2\", \"vs3\",\"vs4\",\"vs5\",\"vs6\",\"vs7\",\"vs8\",\"vs9\",\"vs10\",\n",
    "        \"is1\",\"is2\",\"is3\",\"is4\",\"is5\",\"is6\",\"is7\",\"is8\",\"is9\",\"is10\"]"
   ]
  },
  {
   "cell_type": "code",
   "execution_count": 28,
   "id": "285e50b1-74a4-46a1-acad-a9cc90d1f1b8",
   "metadata": {},
   "outputs": [],
   "source": [
    "definicion = \"ns=2;s=Inversor\" + str(1) + \".\""
   ]
  },
  {
   "cell_type": "code",
   "execution_count": 32,
   "id": "fe307790-7e70-4155-8e13-c96065732839",
   "metadata": {},
   "outputs": [
    {
     "data": {
      "text/plain": [
       "['ns=2;s=Inversor1.PA',\n",
       " 'ns=2;s=Inversor1.PA_peak',\n",
       " 'ns=2;s=Inversor1.EA',\n",
       " 'ns=2;s=Inversor1.EA_hoy',\n",
       " 'ns=2;s=Inversor1.Estado',\n",
       " 'ns=2;s=Inversor1.Temperatura',\n",
       " 'ns=2;s=Inversor1.Raislamiento',\n",
       " 'ns=2;s=Inversor1.V1',\n",
       " 'ns=2;s=Inversor1.V2',\n",
       " 'ns=2;s=Inversor1.V3',\n",
       " 'ns=2;s=Inversor1.I1',\n",
       " 'ns=2;s=Inversor1.I2',\n",
       " 'ns=2;s=Inversor1.I3',\n",
       " 'ns=2;s=Inversor1.vs1',\n",
       " 'ns=2;s=Inversor1.vs2',\n",
       " 'ns=2;s=Inversor1.vs3',\n",
       " 'ns=2;s=Inversor1.vs4',\n",
       " 'ns=2;s=Inversor1.vs5',\n",
       " 'ns=2;s=Inversor1.vs6',\n",
       " 'ns=2;s=Inversor1.vs7',\n",
       " 'ns=2;s=Inversor1.vs8',\n",
       " 'ns=2;s=Inversor1.vs9',\n",
       " 'ns=2;s=Inversor1.vs10',\n",
       " 'ns=2;s=Inversor1.is1',\n",
       " 'ns=2;s=Inversor1.is2',\n",
       " 'ns=2;s=Inversor1.is3',\n",
       " 'ns=2;s=Inversor1.is4',\n",
       " 'ns=2;s=Inversor1.is5',\n",
       " 'ns=2;s=Inversor1.is6',\n",
       " 'ns=2;s=Inversor1.is7',\n",
       " 'ns=2;s=Inversor1.is8',\n",
       " 'ns=2;s=Inversor1.is9',\n",
       " 'ns=2;s=Inversor1.is10']"
      ]
     },
     "execution_count": 32,
     "metadata": {},
     "output_type": "execute_result"
    }
   ],
   "source": [
    "[definicion + s for s in variables]"
   ]
  },
  {
   "cell_type": "code",
   "execution_count": null,
   "id": "b3bca27e-775f-487c-8d2a-f6e70a35d691",
   "metadata": {},
   "outputs": [],
   "source": []
  }
 ],
 "metadata": {
  "kernelspec": {
   "display_name": "Python 3 (ipykernel)",
   "language": "python",
   "name": "python3"
  },
  "language_info": {
   "codemirror_mode": {
    "name": "ipython",
    "version": 3
   },
   "file_extension": ".py",
   "mimetype": "text/x-python",
   "name": "python",
   "nbconvert_exporter": "python",
   "pygments_lexer": "ipython3",
   "version": "3.11.6"
  }
 },
 "nbformat": 4,
 "nbformat_minor": 5
}
